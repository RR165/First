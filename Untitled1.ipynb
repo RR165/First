{
 "cells": [
  {
   "cell_type": "code",
   "execution_count": null,
   "id": "9fdbd2f0-197d-4ae4-a6dc-2a26ed5d903f",
   "metadata": {},
   "outputs": [],
   "source": []
  }
 ],
 "metadata": {
  "kernelspec": {
   "display_name": "",
   "name": ""
  },
  "language_info": {
   "name": ""
  }
 },
 "nbformat": 4,
 "nbformat_minor": 5
}
